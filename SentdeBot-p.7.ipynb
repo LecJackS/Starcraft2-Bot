{
 "cells": [
  {
   "cell_type": "code",
   "execution_count": 4,
   "metadata": {
    "collapsed": true
   },
   "outputs": [
    {
     "name": "stdout",
     "output_type": "stream",
     "text": [
      "INFO:sc2.protocol:Client status changed to Status.launched (was None)\n",
      "INFO:sc2.controller:Creating new game\n",
      "INFO:sc2.controller:Map:     AbyssalReefLE\n",
      "INFO:sc2.controller:Players: Bot(Race.Protoss, <__main__.SentdeBot object at 0x0000017790E38358>), Computer(Race.Terran, Difficulty.Easy)\n",
      "INFO:sc2.protocol:Client status changed to Status.init_game (was Status.launched)\n",
      "INFO:sc2.protocol:Client status changed to Status.in_game (was None)\n",
      "INFO:root:Player id: 1\n",
      "[ 0.  0.  1.  0.]\n",
      "[ 0.  0.  1.  0.]\n",
      "[ 0.  1.  0.  0.]\n",
      "[ 0.  0.  1.  0.]\n",
      "[ 1.  0.  0.  0.]\n",
      "[ 1.  0.  0.  0.]\n",
      "[ 1.  0.  0.  0.]\n",
      "[ 1.  0.  0.  0.]\n",
      "[ 1.  0.  0.  0.]\n",
      "[ 0.  0.  0.  1.]\n",
      "[ 0.  0.  1.  0.]\n",
      "[ 0.  0.  1.  0.]\n",
      "[ 0.  0.  0.  1.]\n",
      "[ 0.  1.  0.  0.]\n",
      "[ 0.  1.  0.  0.]\n",
      "[ 0.  1.  0.  0.]\n",
      "[ 0.  1.  0.  0.]\n",
      "[ 0.  1.  0.  0.]\n",
      "[ 0.  0.  0.  1.]\n",
      "[ 0.  0.  1.  0.]\n",
      "[ 0.  0.  0.  1.]\n",
      "[ 1.  0.  0.  0.]\n",
      "[ 0.  0.  1.  0.]\n",
      "[ 0.  1.  0.  0.]\n",
      "[ 0.  0.  1.  0.]\n",
      "[ 0.  1.  0.  0.]\n",
      "[ 0.  0.  0.  1.]\n",
      "[ 0.  1.  0.  0.]\n",
      "[ 1.  0.  0.  0.]\n",
      "INFO:sc2.protocol:Client status changed to Status.ended (was Status.in_game)\n",
      "--- on_end called ---\n",
      "Result:  Result.Victory\n",
      "INFO:root:Result for player id: 1: Result.Victory\n",
      "INFO:sc2.protocol:Client status changed to Status.launched (was Status.ended)\n",
      "INFO:sc2.protocol:Client status changed to Status.quit (was Status.launched)\n",
      "INFO:sc2.sc2process:kill_switch: Process cleanup\n",
      "INFO:sc2.sc2process:Cleaning up...\n",
      "INFO:sc2.sc2process:Cleanup complete\n",
      "INFO:sc2.sc2process:Cleaning up...\n",
      "INFO:sc2.sc2process:Cleanup complete\n",
      "INFO:sc2.sc2process:Cleaning up...\n",
      "INFO:sc2.sc2process:Cleanup complete\n"
     ]
    },
    {
     "data": {
      "text/plain": [
       "<Result.Victory: 1>"
      ]
     },
     "execution_count": 4,
     "metadata": {},
     "output_type": "execute_result"
    }
   ],
   "source": [
    "import os\n",
    "import sc2\n",
    "from sc2 import run_game, maps, Race, Difficulty, position, Result\n",
    "from sc2.player import Bot, Computer\n",
    "from sc2.constants import NEXUS, PROBE, PYLON, ASSIMILATOR, GATEWAY, \\\n",
    "     CYBERNETICSCORE, STARGATE, VOIDRAY, OBSERVER, ROBOTICSFACILITY\n",
    "import random\n",
    "import asyncio\n",
    "import cv2\n",
    "import numpy as np\n",
    "import time\n",
    "\n",
    "#sc2path = os.path.abspath('C:\\\\sc2\\\\StarCraftII')\n",
    "#print(sc2path)\n",
    "#os.environ[\"SC2PATH\"] = sc2path\n",
    "\n",
    "HEADLESS = False\n",
    "\n",
    "\n",
    "class SentdeBot(sc2.BotAI):\n",
    "    def __init__(self):\n",
    "        self.ITERATIONS_PER_MINUTE = 165\n",
    "        self.MAX_WORKERS = 50\n",
    "        self.do_something_after = 0\n",
    "        self.train_data = []\n",
    "\n",
    "    def on_end(self, game_result):\n",
    "        print('--- on_end called ---')\n",
    "        print(\"Result: \", game_result)\n",
    "        \n",
    "        fileName = str(int(time.time()))\n",
    "        \n",
    "        if game_result == Result.Victory:\n",
    "            np.save(\"train_data/victory/{}.npy\".format(fileName), np.array(self.train_data))\n",
    "        elif game_result == Result.Defeat:\n",
    "            np.save(\"train_data/defeat/{}.npy\".format(fileName), np.array(self.train_data))\n",
    "        else:\n",
    "            #does it happens?\n",
    "            np.save(\"train_data/other/debug.txt\", np.array(game_result))\n",
    "            np.save(\"train_data/other/{}.npy\".format(fileName), np.array(self.train_data))\n",
    "            \n",
    "\n",
    "\n",
    "\n",
    "\n",
    "\n",
    "                    \n",
    "\n",
    "\n",
    "\n",
    "\n",
    "\n",
    "\n",
    "\n"
   ]
  },
  {
   "cell_type": "code",
   "execution_count": null,
   "metadata": {
    "collapsed": true
   },
   "outputs": [],
   "source": [
    "class SentdeBot(SentdeBot):\n",
    "    async def on_step(self, iteration):\n",
    "        self.iteration = iteration\n",
    "        await self.scout()\n",
    "        await self.distribute_workers()\n",
    "        await self.build_workers()\n",
    "        await self.build_pylons()\n",
    "        await self.build_assimilators()\n",
    "        await self.expand()\n",
    "        await self.offensive_force_buildings()\n",
    "        await self.build_offensive_force()\n",
    "        await self.intel()\n",
    "        await self.attack()"
   ]
  },
  {
   "cell_type": "code",
   "execution_count": null,
   "metadata": {
    "collapsed": true
   },
   "outputs": [],
   "source": [
    "class SentdeBot(SentdeBot):\n",
    "    def random_location_variance(self, enemy_start_location):\n",
    "        x = enemy_start_location[0]\n",
    "        y = enemy_start_location[1]\n",
    "\n",
    "        x += ((random.randrange(-20, 20))/100) * enemy_start_location[0]\n",
    "        y += ((random.randrange(-20, 20))/100) * enemy_start_location[1]\n",
    "\n",
    "        if x < 0:\n",
    "            x = 0\n",
    "        if y < 0:\n",
    "            y = 0\n",
    "        if x > self.game_info.map_size[0]:\n",
    "            x = self.game_info.map_size[0]\n",
    "        if y > self.game_info.map_size[1]:\n",
    "            y = self.game_info.map_size[1]\n",
    "\n",
    "        go_to = position.Point2(position.Pointlike((x,y)))\n",
    "        return go_to"
   ]
  },
  {
   "cell_type": "code",
   "execution_count": null,
   "metadata": {
    "collapsed": true
   },
   "outputs": [],
   "source": [
    "class SentdeBot(SentdeBot):\n",
    "    async def scout(self):\n",
    "        if len(self.units(OBSERVER)) > 0:\n",
    "            scout = self.units(OBSERVER)[0]\n",
    "            if scout.is_idle:\n",
    "                enemy_location = self.enemy_start_locations[0]\n",
    "                move_to = self.random_location_variance(enemy_location)\n",
    "                #print(move_to)\n",
    "                await asyncio.sleep(2.0)\n",
    "                await self.do(scout.move(move_to))\n",
    "\n",
    "        else:\n",
    "            for rf in self.units(ROBOTICSFACILITY).ready.noqueue:\n",
    "                if self.can_afford(OBSERVER) and self.supply_left > 0:\n",
    "                    await self.do(rf.train(OBSERVER))"
   ]
  },
  {
   "cell_type": "code",
   "execution_count": null,
   "metadata": {
    "collapsed": true
   },
   "outputs": [],
   "source": [
    "class SentdeBot(SentdeBot):\n",
    "    async def intel(self):\n",
    "        game_data = np.zeros((self.game_info.map_size[1], self.game_info.map_size[0], 3), np.uint8)\n",
    "        # UNIT: [SIZE, (BGR COLOR)]\n",
    "        '''from sc2.constants import NEXUS, PROBE, PYLON, ASSIMILATOR, GATEWAY, \\\n",
    " CYBERNETICSCORE, STARGATE, VOIDRAY'''\n",
    "        draw_dict = {\n",
    "                     NEXUS: [15, (0, 255, 0)],\n",
    "                     PYLON: [3, (20, 235, 0)],\n",
    "                     PROBE: [1, (55, 200, 0)],\n",
    "                     ASSIMILATOR: [2, (55, 200, 0)],\n",
    "                     GATEWAY: [3, (200, 100, 0)],\n",
    "                     CYBERNETICSCORE: [3, (150, 150, 0)],\n",
    "                     STARGATE: [5, (255, 0, 0)],\n",
    "                     ROBOTICSFACILITY: [5, (215, 155, 0)],\n",
    "                     VOIDRAY: [3, (255, 100, 0)],\n",
    "                     #OBSERVER: [3, (255, 255, 255)],\n",
    "                    }\n",
    "\n",
    "        for unit_type in draw_dict:\n",
    "            for unit in self.units(unit_type).ready:\n",
    "                pos = unit.position\n",
    "                cv2.circle(game_data, (int(pos[0]), int(pos[1])), draw_dict[unit_type][0], draw_dict[unit_type][1], -1)\n",
    "\n",
    "        main_base_names = [\"nexus\", \"supplydepot\", \"hatchery\"]\n",
    "        for enemy_building in self.known_enemy_structures:\n",
    "            pos = enemy_building.position\n",
    "            if enemy_building.name.lower() not in main_base_names:\n",
    "                cv2.circle(game_data, (int(pos[0]), int(pos[1])), 5, (200, 50, 212), -1)\n",
    "        for enemy_building in self.known_enemy_structures:\n",
    "            pos = enemy_building.position\n",
    "            if enemy_building.name.lower() in main_base_names:\n",
    "                cv2.circle(game_data, (int(pos[0]), int(pos[1])), 15, (0, 0, 255), -1)\n",
    "\n",
    "        for enemy_unit in self.known_enemy_units:\n",
    "\n",
    "            if not enemy_unit.is_structure:\n",
    "                worker_names = [\"probe\",\n",
    "                                \"scv\",\n",
    "                                \"drone\"]\n",
    "                # if that unit is a PROBE, SCV, or DRONE... it's a worker\n",
    "                pos = enemy_unit.position\n",
    "                if enemy_unit.name.lower() in worker_names:\n",
    "                    cv2.circle(game_data, (int(pos[0]), int(pos[1])), 1, (55, 0, 155), -1)\n",
    "                else:\n",
    "                    cv2.circle(game_data, (int(pos[0]), int(pos[1])), 3, (50, 0, 215), -1)\n",
    "\n",
    "        for obs in self.units(OBSERVER).ready:\n",
    "            pos = obs.position\n",
    "            cv2.circle(game_data, (int(pos[0]), int(pos[1])), 1, (255, 255, 255), -1)\n",
    "\n",
    "        line_max = 50\n",
    "        mineral_ratio = self.minerals / 1500\n",
    "        if mineral_ratio > 1.0:\n",
    "            mineral_ratio = 1.0\n",
    "\n",
    "        vespene_ratio = self.vespene / 1500\n",
    "        if vespene_ratio > 1.0:\n",
    "            vespene_ratio = 1.0\n",
    "\n",
    "        population_ratio = self.supply_left / self.supply_cap\n",
    "        if population_ratio > 1.0:\n",
    "            population_ratio = 1.0\n",
    "\n",
    "        plausible_supply = self.supply_cap / 200.0\n",
    "\n",
    "        military_weight = len(self.units(VOIDRAY)) / (self.supply_cap-self.supply_left)\n",
    "        if military_weight > 1.0:\n",
    "            military_weight = 1.0\n",
    "\n",
    "        cv2.line(game_data, (0, 19), (int(line_max*military_weight), 19), (250, 250, 200), 3)  # worker/supply ratio\n",
    "        cv2.line(game_data, (0, 15), (int(line_max*plausible_supply), 15), (220, 200, 200), 3)  # plausible supply (supply/200.0)\n",
    "        cv2.line(game_data, (0, 11), (int(line_max*population_ratio), 11), (150, 150, 150), 3)  # population ratio (supply_left/supply)\n",
    "        cv2.line(game_data, (0, 7), (int(line_max*vespene_ratio), 7), (210, 200, 0), 3)  # gas / 1500\n",
    "        cv2.line(game_data, (0, 3), (int(line_max*mineral_ratio), 3), (0, 255, 25), 3)  # minerals minerals/1500\n",
    "\n",
    "        # flip horizontally to make our final fix in visual representation:\n",
    "        self.flipped = cv2.flip(game_data, 0)\n",
    "\n",
    "        if not HEADLESS:\n",
    "            resized = cv2.resize(self.flipped, dsize=None, fx=2, fy=2)\n",
    "            cv2.imshow('Intel', resized)\n",
    "            cv2.waitKey(1)"
   ]
  },
  {
   "cell_type": "code",
   "execution_count": null,
   "metadata": {
    "collapsed": true
   },
   "outputs": [],
   "source": [
    "class SentdeBot(SentdeBot):\n",
    "    async def build_workers(self):\n",
    "        if (len(self.units(NEXUS)) * 16) > len(self.units(PROBE)) and len(self.units(PROBE)) < self.MAX_WORKERS:\n",
    "            for nexus in self.units(NEXUS).ready.noqueue:\n",
    "                if self.can_afford(PROBE):\n",
    "                    await self.do(nexus.train(PROBE))"
   ]
  },
  {
   "cell_type": "code",
   "execution_count": null,
   "metadata": {
    "collapsed": true
   },
   "outputs": [],
   "source": [
    "class SentdeBot(SentdeBot):\n",
    "    async def build_pylons(self):\n",
    "        if self.supply_left < 5 and not self.already_pending(PYLON):\n",
    "            nexuses = self.units(NEXUS).ready\n",
    "            if nexuses.exists:\n",
    "                if self.can_afford(PYLON):\n",
    "                    await self.build(PYLON, near=nexuses.first)"
   ]
  },
  {
   "cell_type": "code",
   "execution_count": null,
   "metadata": {
    "collapsed": true
   },
   "outputs": [],
   "source": [
    "class SentdeBot(SentdeBot):\n",
    "    async def build_assimilators(self):\n",
    "        for nexus in self.units(NEXUS).ready:\n",
    "            vaspenes = self.state.vespene_geyser.closer_than(15.0, nexus)\n",
    "            for vaspene in vaspenes:\n",
    "                if not self.can_afford(ASSIMILATOR):\n",
    "                    break\n",
    "                worker = self.select_build_worker(vaspene.position)\n",
    "                if worker is None:\n",
    "                    break\n",
    "                if not self.units(ASSIMILATOR).closer_than(1.0, vaspene).exists:\n",
    "                    await self.do(worker.build(ASSIMILATOR, vaspene))"
   ]
  },
  {
   "cell_type": "code",
   "execution_count": null,
   "metadata": {
    "collapsed": true
   },
   "outputs": [],
   "source": [
    "class SentdeBot(SentdeBot):\n",
    "    async def expand(self):\n",
    "        if self.units(NEXUS).amount < (self.iteration / self.ITERATIONS_PER_MINUTE) and self.can_afford(NEXUS):\n",
    "            await self.expand_now()"
   ]
  },
  {
   "cell_type": "code",
   "execution_count": null,
   "metadata": {
    "collapsed": true
   },
   "outputs": [],
   "source": [
    "class SentdeBot(SentdeBot):\n",
    "    async def offensive_force_buildings(self):\n",
    "        #print(self.iteration / self.ITERATIONS_PER_MINUTE)\n",
    "        if self.units(PYLON).ready.exists:\n",
    "            pylon = self.units(PYLON).ready.random\n",
    "\n",
    "            if self.units(GATEWAY).ready.exists and not self.units(CYBERNETICSCORE):\n",
    "                if self.can_afford(CYBERNETICSCORE) and not self.already_pending(CYBERNETICSCORE):\n",
    "                    await self.build(CYBERNETICSCORE, near=pylon)\n",
    "\n",
    "            elif len(self.units(GATEWAY)) < 1:\n",
    "                if self.can_afford(GATEWAY) and not self.already_pending(GATEWAY):\n",
    "                    await self.build(GATEWAY, near=pylon)\n",
    "\n",
    "            if self.units(CYBERNETICSCORE).ready.exists:\n",
    "                if len(self.units(ROBOTICSFACILITY)) < 1:\n",
    "                    if self.can_afford(ROBOTICSFACILITY) and not self.already_pending(ROBOTICSFACILITY):\n",
    "                        await self.build(ROBOTICSFACILITY, near=pylon)\n",
    "\n",
    "            if self.units(CYBERNETICSCORE).ready.exists:\n",
    "                if len(self.units(STARGATE)) < (self.iteration / self.ITERATIONS_PER_MINUTE):\n",
    "                    if self.can_afford(STARGATE) and not self.already_pending(STARGATE):\n",
    "                        await self.build(STARGATE, near=pylon)"
   ]
  },
  {
   "cell_type": "code",
   "execution_count": null,
   "metadata": {
    "collapsed": true
   },
   "outputs": [],
   "source": [
    "class SentdeBot(SentdeBot):\n",
    "    async def build_offensive_force(self):\n",
    "        for sg in self.units(STARGATE).ready.noqueue:\n",
    "            if self.can_afford(VOIDRAY) and self.supply_left > 0:\n",
    "                await self.do(sg.train(VOIDRAY))"
   ]
  },
  {
   "cell_type": "code",
   "execution_count": null,
   "metadata": {
    "collapsed": true
   },
   "outputs": [],
   "source": [
    "class SentdeBot(SentdeBot):\n",
    "    def find_target(self, state):\n",
    "        if len(self.known_enemy_units) > 0:\n",
    "            return random.choice(self.known_enemy_units)\n",
    "        elif len(self.known_enemy_structures) > 0:\n",
    "            return random.choice(self.known_enemy_structures)\n",
    "        else:\n",
    "            return self.enemy_start_locations[0]"
   ]
  },
  {
   "cell_type": "code",
   "execution_count": null,
   "metadata": {
    "collapsed": true
   },
   "outputs": [],
   "source": [
    "class SentdeBot(SentdeBot):\n",
    "    async def attack(self):\n",
    "        if len(self.units(VOIDRAY).idle) > 0:\n",
    "            choice = random.randrange(0, 4)\n",
    "            target = False\n",
    "            if self.iteration > self.do_something_after:\n",
    "                if choice == 0:\n",
    "                    # no attack\n",
    "                    wait = random.randrange(20, 165)\n",
    "                    self.do_something_after = self.iteration + wait\n",
    "\n",
    "                elif choice == 1:\n",
    "                    #attack_unit_closest_nexus\n",
    "                    if len(self.known_enemy_units) > 0:\n",
    "                        target = self.known_enemy_units.closest_to(random.choice(self.units(NEXUS)))\n",
    "\n",
    "                elif choice == 2:\n",
    "                    #attack enemy structures\n",
    "                    if len(self.known_enemy_structures) > 0:\n",
    "                        target = random.choice(self.known_enemy_structures)\n",
    "\n",
    "                elif choice == 3:\n",
    "                    #attack_enemy_start\n",
    "                    target = self.enemy_start_locations[0]\n",
    "\n",
    "                if target:\n",
    "                    for vr in self.units(VOIDRAY).idle:\n",
    "                        await self.do(vr.attack(target))\n",
    "                y = np.zeros(4)\n",
    "                y[choice] = 1\n",
    "                print(y)\n",
    "                self.train_data.append([y, self.flipped])"
   ]
  },
  {
   "cell_type": "code",
   "execution_count": null,
   "metadata": {
    "collapsed": true
   },
   "outputs": [],
   "source": [
    "run_game(maps.get(\"AbyssalReefLE\"), [\n",
    "    Bot(Race.Protoss, SentdeBot()),\n",
    "    Computer(Race.Terran, Difficulty.Easy)\n",
    "    ], realtime=False)"
   ]
  }
 ],
 "metadata": {
  "kernelspec": {
   "display_name": "Python 3",
   "language": "python",
   "name": "python3"
  },
  "language_info": {
   "codemirror_mode": {
    "name": "ipython",
    "version": 3
   },
   "file_extension": ".py",
   "mimetype": "text/x-python",
   "name": "python",
   "nbconvert_exporter": "python",
   "pygments_lexer": "ipython3",
   "version": "3.6.3"
  }
 },
 "nbformat": 4,
 "nbformat_minor": 2
}
